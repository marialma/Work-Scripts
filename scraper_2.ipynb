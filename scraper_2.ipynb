{
 "cells": [
  {
   "cell_type": "markdown",
   "metadata": {},
   "source": [
    "Using Python to scrape out some HTML that I pulled from a site. I manually scraped it because I once again couldn't get my browser to cooperate with the js-rendered page. This outputs two .csv files - one with all the drugs, and one with only the non-discontinued drugs.\n"
   ]
  },
  {
   "cell_type": "code",
   "execution_count": null,
   "metadata": {
    "collapsed": true
   },
   "outputs": [],
   "source": [
    "drugs = open('drugsatfda.txt','r') \n",
    "from bs4 import BeautifulSoup\n",
    "import pandas\n",
    "drugs_read = BeautifulSoup(drugs, 'lxml')"
   ]
  },
  {
   "cell_type": "code",
   "execution_count": null,
   "metadata": {},
   "outputs": [],
   "source": [
    "tablelist = drugs_read.find_all('tr')\n",
    "drug_names = []\n",
    "for row in tablelist:\n",
    "    molrow = row.find_all('ul')\n",
    "    for x in molrow:\n",
    "        asdf = x.find_all('li')\n",
    "        for line in asdf:\n",
    "            drugrow = line.get_text()\n",
    "            drug_names.append(drugrow)\n",
    "# get only the text \n",
    "# - all relevant text seems to be within the <li> tags, but some tr rows have multiple li blocks. \n",
    "# additionally, i only want to find the li blocks within the ul. \n",
    "# i feel like there's probably a better way to do this"
   ]
  },
  {
   "cell_type": "code",
   "execution_count": null,
   "metadata": {},
   "outputs": [],
   "source": [
    "# Grabbing all drugs. \n",
    "active_ing = []\n",
    "ANDA = []\n",
    "formulation = []\n",
    "rx = []\n",
    "mfg = []\n",
    "for line in drug_names:\n",
    "    split_string = line.split(\"|\")\n",
    "    if len(split_string) > 2:\n",
    "        active_ing.append(split_string[0])\n",
    "        ANDA.append(split_string[1])\n",
    "        formulation.append(split_string[2])\n",
    "        rx.append(split_string[3])\n",
    "        mfg.append(split_string[4])\n",
    "ANDA = [a[-7:] for a in ANDA]    \n",
    "fdalink = []\n",
    "for x in ANDA:\n",
    "    newlink = 'https://www.accessdata.fda.gov/scripts/cder/daf/index.cfm?event=overview.process&ApplNo='+ x\n",
    "    fdalink.append(newlink)\n",
    "df = pandas.DataFrame(active_ing, columns =['Active Ingredient'])\n",
    "df['Link'] = fdalink\n",
    "df['ANDA']= ANDA\n",
    "df['Formulation']= formulation\n",
    "df['Prescription'] = rx\n",
    "df['Manufacturer'] = mfg\n",
    "df.to_csv('human_drugs.csv')"
   ]
  },
  {
   "cell_type": "code",
   "execution_count": null,
   "metadata": {},
   "outputs": [],
   "source": [
    "# This chunk looks only at drugs that have not been discontinued\n",
    "active_ing = []\n",
    "ANDA = []\n",
    "formulation = []\n",
    "rx = []\n",
    "mfg = []\n",
    "for line in drug_names:\n",
    "    split_string = line.split(\"|\")\n",
    "    if len(split_string) > 2:\n",
    "        if split_string[3] != \" Discontinued \":\n",
    "            active_ing.append(split_string[0].title())\n",
    "            ANDA.append(split_string[1])\n",
    "            formulation.append(split_string[2])\n",
    "            rx.append(split_string[3])\n",
    "            mfg.append(split_string[4])\n",
    "ANDA = [a[-7:] for a in ANDA]    \n",
    "fdalink = []\n",
    "for x in ANDA:\n",
    "    newlink = 'https://www.accessdata.fda.gov/scripts/cder/daf/index.cfm?event=overview.process&ApplNo='+ x\n",
    "    fdalink.append(newlink)\n",
    "df = pandas.DataFrame(active_ing, columns =['Active Ingredient'])\n",
    "df['Link'] = fdalink\n",
    "df['ANDA']= ANDA\n",
    "df['Formulation']= formulation\n",
    "df['Prescription'] = rx\n",
    "df['Manufacturer'] = mfg\n",
    "df.to_csv('not_discontinued.csv')"
   ]
  },
  {
   "cell_type": "code",
   "execution_count": null,
   "metadata": {
    "collapsed": true
   },
   "outputs": [],
   "source": []
  }
 ],
 "metadata": {
  "kernelspec": {
   "display_name": "Python 2",
   "language": "python",
   "name": "python2"
  },
  "language_info": {
   "codemirror_mode": {
    "name": "ipython",
    "version": 2
   },
   "file_extension": ".py",
   "mimetype": "text/x-python",
   "name": "python",
   "nbconvert_exporter": "python",
   "pygments_lexer": "ipython2",
   "version": "2.7.13"
  }
 },
 "nbformat": 4,
 "nbformat_minor": 2
}
